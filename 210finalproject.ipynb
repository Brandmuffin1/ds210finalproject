{
 "cells": [
  {
   "cell_type": "code",
   "execution_count": 7,
   "id": "73f0c95c-d80d-4366-8556-a90bb4e9b52e",
   "metadata": {
    "tags": []
   },
   "outputs": [
    {
     "name": "stdout",
     "output_type": "stream",
     "text": [
      "Requirement already satisfied: nfl_data_py in /opt/app-root/lib64/python3.11/site-packages (0.3.3)\n",
      "Requirement already satisfied: numpy<2.0,>=1.0 in /opt/app-root/lib64/python3.11/site-packages (from nfl_data_py) (1.24.4)\n",
      "Requirement already satisfied: pandas<2.0,>=1.0 in /opt/app-root/lib64/python3.11/site-packages (from nfl_data_py) (1.5.3)\n",
      "Requirement already satisfied: appdirs>1 in /opt/app-root/lib64/python3.11/site-packages (from nfl_data_py) (1.4.4)\n",
      "Requirement already satisfied: fastparquet>0.5 in /opt/app-root/lib64/python3.11/site-packages (from nfl_data_py) (2024.11.0)\n",
      "Requirement already satisfied: cramjam>=2.3 in /opt/app-root/lib64/python3.11/site-packages (from fastparquet>0.5->nfl_data_py) (2.9.0)\n",
      "Requirement already satisfied: fsspec in /opt/app-root/lib64/python3.11/site-packages (from fastparquet>0.5->nfl_data_py) (2023.9.2)\n",
      "Requirement already satisfied: packaging in /opt/app-root/lib64/python3.11/site-packages (from fastparquet>0.5->nfl_data_py) (23.1)\n",
      "Requirement already satisfied: python-dateutil>=2.8.1 in /opt/app-root/lib64/python3.11/site-packages (from pandas<2.0,>=1.0->nfl_data_py) (2.8.2)\n",
      "Requirement already satisfied: pytz>=2020.1 in /opt/app-root/lib64/python3.11/site-packages (from pandas<2.0,>=1.0->nfl_data_py) (2023.3.post1)\n",
      "Requirement already satisfied: six>=1.5 in /opt/app-root/lib64/python3.11/site-packages (from python-dateutil>=2.8.1->pandas<2.0,>=1.0->nfl_data_py) (1.16.0)\n",
      "Note: you may need to restart the kernel to use updated packages.\n"
     ]
    }
   ],
   "source": [
    "pip install nfl_data_py"
   ]
  },
  {
   "cell_type": "code",
   "execution_count": 2,
   "id": "4e2227a3-bace-45c9-8d8e-860ba91c1635",
   "metadata": {
    "tags": []
   },
   "outputs": [],
   "source": [
    "import nfl_data_py as nfl\n",
    "import pandas as pd"
   ]
  },
  {
   "cell_type": "code",
   "execution_count": 3,
   "id": "c4863ef5-4142-45f2-aee9-49c5e2a0603d",
   "metadata": {
    "tags": []
   },
   "outputs": [
    {
     "name": "stdout",
     "output_type": "stream",
     "text": [
      "2020 done.\n",
      "2021 done.\n",
      "2022 done.\n",
      "Downcasting floats.\n"
     ]
    }
   ],
   "source": [
    "# load play-by-play data for 2020–2022 (Tom Brady's seasons with the Bucs)\n",
    "pbp_data = nfl.import_pbp_data([2020, 2021, 2022])"
   ]
  },
  {
   "cell_type": "code",
   "execution_count": 55,
   "id": "642dc888-ba98-4d88-b7b7-57847a92b61d",
   "metadata": {
    "tags": []
   },
   "outputs": [
    {
     "data": {
      "text/plain": [
       "2439"
      ]
     },
     "execution_count": 55,
     "metadata": {},
     "output_type": "execute_result"
    }
   ],
   "source": [
    "# filter for Tom Brady's pass attempts with the Bucs\n",
    "brady_pass_attempts = pbp_data[\n",
    "    (pbp_data['passer'] == 'T.Brady') &  # Tom Brady as passer\n",
    "    (pbp_data['posteam'] == 'TB') &      # Tampa Bay Buccaneers as possessing team (Offense)\n",
    "    (pbp_data['play_type'].notna()) &    # Exclude NaN play types\n",
    "    (~pbp_data['play_type'].str.contains('no_play|run', case=False, na=False))  # remove all 'no_play' and 'run', only keeps passes\n",
    "]\n",
    "\n",
    "columns_to_keep = [\n",
    "    'game_id',       # game id\n",
    "    'play_id',       # play id\n",
    "    'down',          # down (1st, 2nd, 3rd, 4th)\n",
    "    'ydstogo',       # distance\n",
    "    'play_type',     # type of play (only passes)\n",
    "    'passer',        # passer name (Tom Brady)\n",
    "    'receiver',      # receiver name\n",
    "    'yards_gained',  # yards gained on the play\n",
    "]\n",
    "brady_pass_attempts = brady_pass_attempts[columns_to_keep]\n",
    "len(brady_pass_attempts)"
   ]
  },
  {
   "cell_type": "code",
   "execution_count": 53,
   "id": "daf2db28-537c-4814-993e-dc82864b9e24",
   "metadata": {
    "tags": []
   },
   "outputs": [
    {
     "name": "stdout",
     "output_type": "stream",
     "text": [
      "CSV file created: tom_brady_bucs_pass_attempts.csv\n",
      "CSV file created: tom_brady_bucs_pbp.csv\n"
     ]
    }
   ],
   "source": [
    "# save to CSV\n",
    "brady_pass_attempts.to_csv(\"tom_brady_bucs_pass_attempts.csv\", index=False)\n",
    "print(\"CSV file created: tom_brady_bucs_pass_attempts.csv\")\n",
    "\n",
    "#pbp_data.to_csv(\"tom_brady_bucs_pbp.csv\", index=False) delete later\n",
    "#print(\"CSV file created: tom_brady_bucs_pbp.csv\")"
   ]
  },
  {
   "cell_type": "code",
   "execution_count": null,
   "id": "0f629b6d-73b4-46cc-91dd-2db695d3b7dc",
   "metadata": {},
   "outputs": [],
   "source": []
  }
 ],
 "metadata": {
  "kernelspec": {
   "display_name": "Python 3.11",
   "language": "python",
   "name": "python3"
  },
  "language_info": {
   "codemirror_mode": {
    "name": "ipython",
    "version": 3
   },
   "file_extension": ".py",
   "mimetype": "text/x-python",
   "name": "python",
   "nbconvert_exporter": "python",
   "pygments_lexer": "ipython3",
   "version": "3.11.4"
  }
 },
 "nbformat": 4,
 "nbformat_minor": 5
}
